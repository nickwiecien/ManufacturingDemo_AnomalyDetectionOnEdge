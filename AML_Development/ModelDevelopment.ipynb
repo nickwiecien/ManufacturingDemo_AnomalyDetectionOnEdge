{
 "cells": [
  {
   "cell_type": "markdown",
   "id": "37aae949-2ba8-49fe-9586-69abcb084dcd",
   "metadata": {},
   "source": [
    "# Autoencoder Model Development - Experimental\n",
    "Notebook below contains development code for building a TensorFlow/Keras autoencoder to detect anomalies in manufacturing telemetry data.\n",
    "\n",
    "<b>Note: To run this notebook select and activate the Python 3.8 Pytorch and Tensorflow kernel from your AML Compute Instance</b>"
   ]
  },
  {
   "cell_type": "markdown",
   "id": "6c24a4bd-4bea-410c-8257-05dbfa2ad30c",
   "metadata": {},
   "source": [
    "### Import required packages and connect to AML workspace"
   ]
  },
  {
   "cell_type": "code",
   "execution_count": 3,
   "id": "4d6518b3-dca8-4f0b-b8ca-042894997081",
   "metadata": {},
   "outputs": [],
   "source": [
    "import pandas as pd\n",
    "from azureml.core import Workspace\n",
    "from databricks import sql as dbsql \n",
    "\n",
    "import mlflow\n",
    "from mlflow import pyfunc\n",
    "\n",
    "from azureml.core import Workspace, Model\n",
    "from sklearn.pipeline import Pipeline\n",
    "from sklearn.impute import SimpleImputer\n",
    "from sklearn.compose import ColumnTransformer\n",
    "from sklearn.preprocessing import MinMaxScaler\n",
    "import joblib\n",
    "\n",
    "import matplotlib.pyplot as plt\n",
    "import numpy as np\n",
    "import tensorflow as tf\n",
    "\n",
    "from sklearn.metrics import accuracy_score, precision_score, recall_score\n",
    "from sklearn.model_selection import train_test_split\n",
    "from sklearn.pipeline import Pipeline\n",
    "from tensorflow.keras import layers, losses\n",
    "from tensorflow.keras.models import Model\n",
    "\n",
    "ws = Workspace.from_config()\n",
    "kv = ws.get_default_keyvault()"
   ]
  },
  {
   "cell_type": "markdown",
   "id": "4165c4b8-78f2-44b8-9be0-dd45ec8e1bae",
   "metadata": {},
   "source": [
    "### Load and prep data from Databricks\n",
    "Using the same logic/routine developed in our Exploratory Data Analysis"
   ]
  },
  {
   "cell_type": "code",
   "execution_count": 2,
   "id": "1157f424-3dbe-42a1-8ee6-6af399d67977",
   "metadata": {},
   "outputs": [],
   "source": [
    "pat = kv.get_secret('dbxpat') # Personal Access Token\n",
    "http_path = kv.get_secret('dbxhttppath') # Databricks Table HTTP Path\n",
    "server_hostname = kv.get_secret('dbxservername') # Databricks server name\n",
    "\n",
    "# Configuration variables - from your keyvault and Databricks \n",
    "databricks_pat = pat\n",
    "server_hostname = server_hostname\n",
    "http_path = http_path\n",
    " \n",
    "# Define the connection to the SQL endpoint \n",
    "connection = dbsql.connect( \n",
    "    server_hostname = server_hostname,\n",
    "    http_path = http_path,\n",
    "    access_token = databricks_pat\n",
    ")\n",
    " \n",
    "# Represent the query as a string \n",
    "sql_query = \"SELECT * FROM default.mfg001\" \n",
    " \n",
    "# Execute the query \n",
    "with connection.cursor() as cursor: \n",
    "# Get the data \n",
    "    cursor.execute(sql_query) \n",
    "    data = cursor.fetchall() \n",
    "    cursor.execute(\"SHOW COLUMNS IN default.mfg001\") \n",
    "    columns = cursor.fetchall() \n",
    "\n",
    "columns = [column[0] for column in columns] \n",
    "df = pd.DataFrame(data=data, columns=columns)\n",
    "\n",
    "df.dropna(inplace=True)"
   ]
  },
  {
   "cell_type": "markdown",
   "id": "777834bd-e838-412c-8242-01d81cac277e",
   "metadata": {},
   "source": [
    "### Define Autoencoder"
   ]
  },
  {
   "cell_type": "code",
   "execution_count": null,
   "id": "73f1eeea-fea7-4251-a433-5d9b36692ee0",
   "metadata": {},
   "outputs": [],
   "source": [
    "class AnomalyDetector(Model):\n",
    "  def __init__(self):\n",
    "    super(AnomalyDetector, self).__init__()\n",
    "    self.encoder = tf.keras.Sequential([\n",
    "      layers.Dense(32, activation=\"relu\"),\n",
    "      layers.Dense(16, activation=\"relu\"),\n",
    "      layers.Dense(8, activation=\"relu\")])\n",
    "\n",
    "    self.decoder = tf.keras.Sequential([\n",
    "      layers.Dense(16, activation=\"relu\"),\n",
    "      layers.Dense(32, activation=\"relu\"),\n",
    "      layers.Dense(49, activation=\"sigmoid\")])\n",
    "\n",
    "  def call(self, x):\n",
    "    encoded = self.encoder(x)\n",
    "    decoded = self.decoder(encoded)\n",
    "    return decoded\n",
    "\n",
    "autoencoder = AnomalyDetector()\n",
    "autoencoder.compile(optimizer='adam', loss='mae')"
   ]
  },
  {
   "cell_type": "markdown",
   "id": "c1fff187-65a5-4d35-891f-abd20851aef1",
   "metadata": {},
   "source": [
    "### Separate and Scale Data\n",
    "Data has tags added indicating `NORMAL` or `BROKEN`/`RECOVERING`. Separate the latter two categories into their own subset"
   ]
  },
  {
   "cell_type": "code",
   "execution_count": 5,
   "id": "48ed4366-9b90-4532-8f54-7c2808aa6cc9",
   "metadata": {},
   "outputs": [
    {
     "data": {
      "text/plain": [
       "['scaler.pkl']"
      ]
     },
     "execution_count": 5,
     "metadata": {},
     "output_type": "execute_result"
    }
   ],
   "source": [
    "good_data = df[df['machine_status']=='NORMAL']\n",
    "bad_data = df[df['machine_status']!='NORMAL']\n",
    "\n",
    "full_data_good = good_data.drop(columns=['timestamp', 'machine_status'])\n",
    "full_data_bad = bad_data.drop(columns=['timestamp', 'machine_status'])\n",
    "\n",
    "scaler = MinMaxScaler()\n",
    "scaler.fit(full_data_good)\n",
    "full_data_good = scaler.transform(full_data_good)\n",
    "full_data_bad  = scaler.transform(full_data_bad)\n",
    "\n",
    "train_data, test_data = train_test_split(\n",
    "    full_data_good, test_size=0.15, random_state=21\n",
    ")\n",
    "\n",
    "#Save scaler to disk\n",
    "joblib.dump(scaler, 'scaler.pkl')"
   ]
  },
  {
   "cell_type": "markdown",
   "id": "95b7b2b3-c9ae-463a-8c6f-45554cbb5225",
   "metadata": {},
   "source": [
    "### Train Model and log using MLflow\n",
    "Code below trains our Autoencoder and logs results directly into the AML workspace using MLflow. Additional artifacts (model scaler and thresholds) are added as artifacts.\n",
    "\n",
    "We can view the results of our run in the AML workspace. Autologging includes all metrics and parameters."
   ]
  },
  {
   "cell_type": "code",
   "execution_count": 6,
   "id": "ac9cf34d-de1d-4181-b4d0-5edf4ba0fc43",
   "metadata": {},
   "outputs": [
    {
     "name": "stderr",
     "output_type": "stream",
     "text": [
      "2022/10/04 15:00:02 WARNING mlflow.utils.autologging_utils: MLflow autologging encountered a warning: \"/anaconda/envs/azureml_py38_PT_TF/lib/python3.8/site-packages/mlflow/tensorflow/_autolog.py:48: UserWarning: This model has not yet been built. Build the model first by calling `build()` or by calling the model on a batch of data.\"\n"
     ]
    },
    {
     "name": "stdout",
     "output_type": "stream",
     "text": [
      "Epoch 1/100\n",
      "  1/341 [..............................] - ETA: 3:02 - loss: 0.2926WARNING:tensorflow:Callback method `on_train_batch_end` is slow compared to the batch time (batch time: 0.0016s vs `on_train_batch_end` time: 0.0019s). Check your callbacks.\n",
      "341/341 [==============================] - 2s 4ms/step - loss: 0.0936 - val_loss: 0.0483\n",
      "Epoch 2/100\n",
      "341/341 [==============================] - 1s 2ms/step - loss: 0.0394 - val_loss: 0.0347\n",
      "Epoch 3/100\n",
      "341/341 [==============================] - 1s 2ms/step - loss: 0.0332 - val_loss: 0.0327\n",
      "Epoch 4/100\n",
      "341/341 [==============================] - 1s 2ms/step - loss: 0.0322 - val_loss: 0.0317\n",
      "Epoch 5/100\n",
      "341/341 [==============================] - 1s 2ms/step - loss: 0.0314 - val_loss: 0.0311\n",
      "Epoch 6/100\n",
      "341/341 [==============================] - 1s 2ms/step - loss: 0.0310 - val_loss: 0.0307\n",
      "Epoch 7/100\n",
      "341/341 [==============================] - 1s 2ms/step - loss: 0.0301 - val_loss: 0.0295\n",
      "Epoch 8/100\n",
      "341/341 [==============================] - 1s 2ms/step - loss: 0.0294 - val_loss: 0.0290\n",
      "Epoch 9/100\n",
      "341/341 [==============================] - 1s 2ms/step - loss: 0.0290 - val_loss: 0.0288\n",
      "Epoch 10/100\n",
      "341/341 [==============================] - 1s 3ms/step - loss: 0.0287 - val_loss: 0.0285\n",
      "Epoch 11/100\n",
      "341/341 [==============================] - 1s 2ms/step - loss: 0.0285 - val_loss: 0.0282\n",
      "Epoch 12/100\n",
      "341/341 [==============================] - 1s 2ms/step - loss: 0.0281 - val_loss: 0.0279\n",
      "Epoch 13/100\n",
      "341/341 [==============================] - 1s 2ms/step - loss: 0.0278 - val_loss: 0.0276\n",
      "Epoch 14/100\n",
      "341/341 [==============================] - 1s 3ms/step - loss: 0.0276 - val_loss: 0.0274\n",
      "Epoch 15/100\n",
      "341/341 [==============================] - 1s 2ms/step - loss: 0.0273 - val_loss: 0.0272\n",
      "Epoch 16/100\n",
      "341/341 [==============================] - 1s 2ms/step - loss: 0.0271 - val_loss: 0.0270\n",
      "Epoch 17/100\n",
      "341/341 [==============================] - 1s 2ms/step - loss: 0.0269 - val_loss: 0.0268\n",
      "Epoch 18/100\n",
      "341/341 [==============================] - 1s 2ms/step - loss: 0.0268 - val_loss: 0.0266\n",
      "Epoch 19/100\n",
      "341/341 [==============================] - 1s 2ms/step - loss: 0.0266 - val_loss: 0.0264\n",
      "Epoch 20/100\n",
      "341/341 [==============================] - 1s 2ms/step - loss: 0.0264 - val_loss: 0.0263\n",
      "Epoch 21/100\n",
      "341/341 [==============================] - 1s 3ms/step - loss: 0.0263 - val_loss: 0.0263\n",
      "Epoch 22/100\n",
      "341/341 [==============================] - 1s 2ms/step - loss: 0.0261 - val_loss: 0.0259\n",
      "Epoch 23/100\n",
      "341/341 [==============================] - 1s 2ms/step - loss: 0.0259 - val_loss: 0.0256\n",
      "Epoch 24/100\n",
      "341/341 [==============================] - 1s 2ms/step - loss: 0.0257 - val_loss: 0.0255\n",
      "Epoch 25/100\n",
      "341/341 [==============================] - 1s 2ms/step - loss: 0.0255 - val_loss: 0.0253\n",
      "Epoch 26/100\n",
      "341/341 [==============================] - 1s 3ms/step - loss: 0.0254 - val_loss: 0.0252\n",
      "Epoch 27/100\n",
      "341/341 [==============================] - 1s 2ms/step - loss: 0.0252 - val_loss: 0.0251\n",
      "Epoch 28/100\n",
      "341/341 [==============================] - 1s 2ms/step - loss: 0.0251 - val_loss: 0.0250\n",
      "Epoch 29/100\n",
      "341/341 [==============================] - 1s 2ms/step - loss: 0.0250 - val_loss: 0.0248\n",
      "Epoch 30/100\n",
      "341/341 [==============================] - 1s 2ms/step - loss: 0.0248 - val_loss: 0.0247\n",
      "Epoch 31/100\n",
      "341/341 [==============================] - 1s 3ms/step - loss: 0.0248 - val_loss: 0.0246\n",
      "Epoch 32/100\n",
      "341/341 [==============================] - 1s 2ms/step - loss: 0.0246 - val_loss: 0.0245\n",
      "Epoch 33/100\n",
      "341/341 [==============================] - 1s 2ms/step - loss: 0.0245 - val_loss: 0.0245\n",
      "Epoch 34/100\n",
      "341/341 [==============================] - 1s 3ms/step - loss: 0.0244 - val_loss: 0.0244\n",
      "Epoch 35/100\n",
      "341/341 [==============================] - 1s 2ms/step - loss: 0.0243 - val_loss: 0.0242\n",
      "Epoch 36/100\n",
      "341/341 [==============================] - 1s 2ms/step - loss: 0.0242 - val_loss: 0.0240\n",
      "Epoch 37/100\n",
      "341/341 [==============================] - 1s 3ms/step - loss: 0.0241 - val_loss: 0.0239\n",
      "Epoch 38/100\n",
      "341/341 [==============================] - 1s 2ms/step - loss: 0.0240 - val_loss: 0.0238\n",
      "Epoch 39/100\n",
      "341/341 [==============================] - 1s 2ms/step - loss: 0.0239 - val_loss: 0.0238\n",
      "Epoch 40/100\n",
      "341/341 [==============================] - 1s 2ms/step - loss: 0.0238 - val_loss: 0.0237\n",
      "Epoch 41/100\n",
      "341/341 [==============================] - 1s 3ms/step - loss: 0.0238 - val_loss: 0.0236\n",
      "Epoch 42/100\n",
      "341/341 [==============================] - 1s 2ms/step - loss: 0.0237 - val_loss: 0.0236\n",
      "Epoch 43/100\n",
      "341/341 [==============================] - 1s 2ms/step - loss: 0.0237 - val_loss: 0.0236\n",
      "Epoch 44/100\n",
      "341/341 [==============================] - 1s 2ms/step - loss: 0.0236 - val_loss: 0.0235\n",
      "Epoch 45/100\n",
      "341/341 [==============================] - 1s 3ms/step - loss: 0.0236 - val_loss: 0.0234\n",
      "Epoch 46/100\n",
      "341/341 [==============================] - 1s 2ms/step - loss: 0.0235 - val_loss: 0.0234\n",
      "Epoch 47/100\n",
      "341/341 [==============================] - 1s 2ms/step - loss: 0.0235 - val_loss: 0.0234\n",
      "Epoch 48/100\n",
      "341/341 [==============================] - 1s 2ms/step - loss: 0.0234 - val_loss: 0.0233\n",
      "Epoch 49/100\n",
      "341/341 [==============================] - 1s 2ms/step - loss: 0.0234 - val_loss: 0.0233\n",
      "Epoch 50/100\n",
      "341/341 [==============================] - 1s 2ms/step - loss: 0.0234 - val_loss: 0.0233\n",
      "Epoch 51/100\n",
      "341/341 [==============================] - 1s 3ms/step - loss: 0.0233 - val_loss: 0.0233\n",
      "Epoch 52/100\n",
      "341/341 [==============================] - 1s 2ms/step - loss: 0.0233 - val_loss: 0.0232\n",
      "Epoch 53/100\n",
      "341/341 [==============================] - 1s 2ms/step - loss: 0.0233 - val_loss: 0.0232\n",
      "Epoch 54/100\n",
      "341/341 [==============================] - 1s 2ms/step - loss: 0.0232 - val_loss: 0.0232\n",
      "Epoch 55/100\n",
      "341/341 [==============================] - 1s 2ms/step - loss: 0.0232 - val_loss: 0.0231\n",
      "Epoch 56/100\n",
      "341/341 [==============================] - 1s 2ms/step - loss: 0.0231 - val_loss: 0.0231\n",
      "Epoch 57/100\n",
      "341/341 [==============================] - 1s 3ms/step - loss: 0.0231 - val_loss: 0.0231\n",
      "Epoch 58/100\n",
      "341/341 [==============================] - 1s 2ms/step - loss: 0.0231 - val_loss: 0.0230\n",
      "Epoch 59/100\n",
      "341/341 [==============================] - 1s 2ms/step - loss: 0.0230 - val_loss: 0.0229\n",
      "Epoch 60/100\n",
      "341/341 [==============================] - 1s 2ms/step - loss: 0.0231 - val_loss: 0.0230\n",
      "Epoch 61/100\n",
      "341/341 [==============================] - 1s 2ms/step - loss: 0.0230 - val_loss: 0.0229\n",
      "Epoch 62/100\n",
      "341/341 [==============================] - 1s 2ms/step - loss: 0.0230 - val_loss: 0.0229\n",
      "Epoch 63/100\n",
      "341/341 [==============================] - 1s 3ms/step - loss: 0.0230 - val_loss: 0.0229\n",
      "Epoch 64/100\n",
      "341/341 [==============================] - 1s 2ms/step - loss: 0.0229 - val_loss: 0.0228\n",
      "Epoch 65/100\n",
      "341/341 [==============================] - 1s 2ms/step - loss: 0.0229 - val_loss: 0.0228\n",
      "Epoch 66/100\n",
      "341/341 [==============================] - 1s 2ms/step - loss: 0.0229 - val_loss: 0.0228\n",
      "Epoch 67/100\n",
      "341/341 [==============================] - 1s 3ms/step - loss: 0.0229 - val_loss: 0.0228\n",
      "Epoch 68/100\n",
      "341/341 [==============================] - 1s 2ms/step - loss: 0.0228 - val_loss: 0.0227\n",
      "Epoch 69/100\n",
      "341/341 [==============================] - 1s 2ms/step - loss: 0.0228 - val_loss: 0.0227\n",
      "Epoch 70/100\n",
      "341/341 [==============================] - 1s 3ms/step - loss: 0.0228 - val_loss: 0.0227\n",
      "Epoch 71/100\n",
      "341/341 [==============================] - 1s 2ms/step - loss: 0.0228 - val_loss: 0.0227\n",
      "Epoch 72/100\n",
      "341/341 [==============================] - 1s 2ms/step - loss: 0.0227 - val_loss: 0.0226\n",
      "Epoch 73/100\n",
      "341/341 [==============================] - 1s 2ms/step - loss: 0.0227 - val_loss: 0.0226\n",
      "Epoch 74/100\n",
      "341/341 [==============================] - 1s 3ms/step - loss: 0.0227 - val_loss: 0.0226\n",
      "Epoch 75/100\n",
      "341/341 [==============================] - 1s 2ms/step - loss: 0.0226 - val_loss: 0.0226\n",
      "Epoch 76/100\n",
      "341/341 [==============================] - 1s 2ms/step - loss: 0.0226 - val_loss: 0.0225\n",
      "Epoch 77/100\n",
      "341/341 [==============================] - 1s 3ms/step - loss: 0.0226 - val_loss: 0.0226\n",
      "Epoch 78/100\n",
      "341/341 [==============================] - 1s 2ms/step - loss: 0.0226 - val_loss: 0.0225\n",
      "Epoch 79/100\n",
      "341/341 [==============================] - 1s 2ms/step - loss: 0.0226 - val_loss: 0.0225\n",
      "Epoch 80/100\n",
      "341/341 [==============================] - 1s 3ms/step - loss: 0.0225 - val_loss: 0.0225\n",
      "Epoch 81/100\n",
      "341/341 [==============================] - 1s 2ms/step - loss: 0.0225 - val_loss: 0.0224\n",
      "Epoch 82/100\n",
      "341/341 [==============================] - 1s 2ms/step - loss: 0.0225 - val_loss: 0.0224\n",
      "Epoch 83/100\n",
      "341/341 [==============================] - 1s 3ms/step - loss: 0.0225 - val_loss: 0.0224\n",
      "Epoch 84/100\n",
      "341/341 [==============================] - 1s 2ms/step - loss: 0.0225 - val_loss: 0.0223\n",
      "Epoch 85/100\n",
      "341/341 [==============================] - 1s 2ms/step - loss: 0.0224 - val_loss: 0.0225\n",
      "Epoch 86/100\n",
      "341/341 [==============================] - 1s 3ms/step - loss: 0.0224 - val_loss: 0.0223\n",
      "Epoch 87/100\n",
      "341/341 [==============================] - 1s 2ms/step - loss: 0.0224 - val_loss: 0.0223\n",
      "Epoch 88/100\n",
      "341/341 [==============================] - 1s 2ms/step - loss: 0.0224 - val_loss: 0.0222\n",
      "Epoch 89/100\n",
      "341/341 [==============================] - 1s 3ms/step - loss: 0.0223 - val_loss: 0.0222\n",
      "Epoch 90/100\n",
      "341/341 [==============================] - 1s 2ms/step - loss: 0.0223 - val_loss: 0.0222\n",
      "Epoch 91/100\n",
      "341/341 [==============================] - 1s 2ms/step - loss: 0.0223 - val_loss: 0.0223\n",
      "Epoch 92/100\n",
      "341/341 [==============================] - 1s 2ms/step - loss: 0.0223 - val_loss: 0.0222\n",
      "Epoch 93/100\n",
      "341/341 [==============================] - 1s 3ms/step - loss: 0.0222 - val_loss: 0.0221\n",
      "Epoch 94/100\n",
      "341/341 [==============================] - 1s 2ms/step - loss: 0.0222 - val_loss: 0.0221\n",
      "Epoch 95/100\n",
      "341/341 [==============================] - 1s 2ms/step - loss: 0.0222 - val_loss: 0.0221\n",
      "Epoch 96/100\n",
      "341/341 [==============================] - 1s 2ms/step - loss: 0.0222 - val_loss: 0.0222\n",
      "Epoch 97/100\n",
      "341/341 [==============================] - 1s 2ms/step - loss: 0.0222 - val_loss: 0.0221\n",
      "Epoch 98/100\n",
      "341/341 [==============================] - 1s 2ms/step - loss: 0.0222 - val_loss: 0.0221\n",
      "Epoch 99/100\n",
      "341/341 [==============================] - 1s 2ms/step - loss: 0.0222 - val_loss: 0.0220\n",
      "Epoch 100/100\n",
      "341/341 [==============================] - 1s 2ms/step - loss: 0.0221 - val_loss: 0.0220\n",
      "INFO:tensorflow:Assets written to: /tmp/tmpxgqx536y/model/data/model/assets\n"
     ]
    },
    {
     "name": "stderr",
     "output_type": "stream",
     "text": [
      "2022/10/04 15:01:19 WARNING mlflow.utils.autologging_utils: MLflow autologging encountered a warning: \"/anaconda/envs/azureml_py38_PT_TF/lib/python3.8/site-packages/_distutils_hack/__init__.py:30: UserWarning: Setuptools is replacing distutils.\"\n"
     ]
    },
    {
     "name": "stdout",
     "output_type": "stream",
     "text": [
      "5448/5448 [==============================] - 4s 713us/step\n"
     ]
    },
    {
     "name": "stderr",
     "output_type": "stream",
     "text": [
      "2022-10-04 15:01:27.837732: W tensorflow/core/framework/cpu_allocator_impl.cc:82] Allocation of 68328344 exceeds 10% of free system memory.\n",
      "2022-10-04 15:01:27.898893: W tensorflow/core/framework/cpu_allocator_impl.cc:82] Allocation of 68328344 exceeds 10% of free system memory.\n",
      "2022-10-04 15:01:27.922182: W tensorflow/core/framework/cpu_allocator_impl.cc:82] Allocation of 68328344 exceeds 10% of free system memory.\n",
      "2022-10-04 15:01:27.938521: W tensorflow/core/framework/cpu_allocator_impl.cc:82] Allocation of 68328344 exceeds 10% of free system memory.\n"
     ]
    }
   ],
   "source": [
    "import mlflow.tensorflow\n",
    "mlflow.tensorflow.autolog(every_n_iter=1)\n",
    "\n",
    "mlflow.set_tracking_uri(ws.get_mlflow_tracking_uri())\n",
    "mlflow.set_experiment('MODEL_DEV_AUTOENCODER')\n",
    "\n",
    "model_name = 'DEV_anomaly_detector'\n",
    "\n",
    "# Start the run\n",
    "with mlflow.start_run(run_name='DEV_autoencoder_run') as run:\n",
    "    run_id = run.info.run_id\n",
    "    history = autoencoder.fit(train_data, train_data, \n",
    "          epochs=100, \n",
    "          batch_size=512,\n",
    "          validation_data=(test_data, test_data),\n",
    "          shuffle=True)\n",
    "    mlflow.log_artifact('scaler.pkl')\n",
    "    model_uri = mlflow.get_artifact_uri(\"model\")\n",
    "    \n",
    "    reconstructions = autoencoder.predict(train_data)\n",
    "    train_loss = tf.keras.losses.mae(reconstructions, train_data)\n",
    "    sd = np.std(train_loss[None,:])\n",
    "    threshold = np.median(train_loss[None,:]) + (3*sd)\n",
    "    with open('./threshold.txt', 'w') as file:\n",
    "        file.write(str(threshold))\n",
    "    mlflow.log_artifact('threshold.txt')"
   ]
  },
  {
   "cell_type": "markdown",
   "id": "eec3353e-49ff-4ce6-8f14-64080a514ea6",
   "metadata": {},
   "source": [
    "### Plot train/test losses across epochs"
   ]
  },
  {
   "cell_type": "code",
   "execution_count": 7,
   "id": "2417df90-f141-442f-b8b4-c0068d5b1bbd",
   "metadata": {},
   "outputs": [
    {
     "data": {
      "text/plain": [
       "<matplotlib.legend.Legend at 0x7f9e03cd1ca0>"
      ]
     },
     "execution_count": 7,
     "metadata": {},
     "output_type": "execute_result"
    },
    {
     "data": {
      "image/png": "[encoded data removed]",
      "text/plain": [
       "<Figure size 1296x432 with 1 Axes>"
      ]
     },
     "metadata": {
      "needs_background": "light"
     },
     "output_type": "display_data"
    }
   ],
   "source": [
    "plt.figure(figsize=(18,6))\n",
    "plt.plot(history.history[\"loss\"], label=\"Training Loss\")\n",
    "plt.plot(history.history[\"val_loss\"], label=\"Validation Loss\")\n",
    "plt.legend()"
   ]
  },
  {
   "cell_type": "markdown",
   "id": "cf4996f6-bc1d-4aaf-92cd-095d5dd07c1c",
   "metadata": {},
   "source": [
    "### Plot reconstruction losses for Training Data"
   ]
  },
  {
   "cell_type": "code",
   "execution_count": 8,
   "id": "1639adff-155b-4493-80e4-5728b2adf316",
   "metadata": {},
   "outputs": [
    {
     "name": "stdout",
     "output_type": "stream",
     "text": [
      "5448/5448 [==============================] - 4s 716us/step\n"
     ]
    },
    {
     "name": "stderr",
     "output_type": "stream",
     "text": [
      "2022-10-04 15:09:57.967271: W tensorflow/core/framework/cpu_allocator_impl.cc:82] Allocation of 68328344 exceeds 10% of free system memory.\n"
     ]
    },
    {
     "data": {
      "image/png": "[encoded data removed]",
      "text/plain": [
       "<Figure size 1296x432 with 1 Axes>"
      ]
     },
     "metadata": {
      "needs_background": "light"
     },
     "output_type": "display_data"
    }
   ],
   "source": [
    "reconstructions = autoencoder.predict(train_data)\n",
    "train_loss = tf.keras.losses.mae(reconstructions, train_data)\n",
    "\n",
    "plt.figure(figsize=(18,6))\n",
    "plt.hist(train_loss[None,:], bins=50, range=(0,.3))\n",
    "plt.xlabel(\"Train loss\")\n",
    "plt.ylabel(\"No of examples\")\n",
    "plt.show()"
   ]
  },
  {
   "cell_type": "markdown",
   "id": "ae92491a-2bf1-4b37-9182-31311571de8b",
   "metadata": {},
   "source": [
    "### Plot reconstructions for Holdout/Validation data"
   ]
  },
  {
   "cell_type": "code",
   "execution_count": 10,
   "id": "5628269c-49d7-492f-909d-1766d0b1b255",
   "metadata": {},
   "outputs": [
    {
     "name": "stdout",
     "output_type": "stream",
     "text": [
      "117/117 [==============================] - 0s 727us/step\n"
     ]
    },
    {
     "data": {
      "image/png": "[encoded data removed]",
      "text/plain": [
       "<Figure size 1296x432 with 1 Axes>"
      ]
     },
     "metadata": {
      "needs_background": "light"
     },
     "output_type": "display_data"
    }
   ],
   "source": [
    "holdout_data = bad_data.drop(columns=['timestamp', 'machine_status'])\n",
    "\n",
    "holdout_data = scaler.transform(holdout_data)\n",
    "holdout_data\n",
    "\n",
    "holdout_data = tf.cast(holdout_data, tf.float32)\n",
    "\n",
    "reconstructions = autoencoder.predict(holdout_data)\n",
    "holdout_loss = tf.keras.losses.mae(reconstructions, holdout_data)\n",
    "\n",
    "plt.figure(figsize=(18,6))\n",
    "plt.hist(holdout_loss[None,:], bins=50,  range=(0,.3))\n",
    "plt.xlabel(\"Train loss\")\n",
    "plt.ylabel(\"No of examples\")\n",
    "plt.show()"
   ]
  },
  {
   "cell_type": "markdown",
   "id": "da32292f-a492-47e4-a3de-8e5737aeef26",
   "metadata": {},
   "source": [
    "### Calculate Threshold for Anomaly Detection\n",
    "By default we set the threshold to 3 standard deviations above the median of calculated reconstruction losses over our training set"
   ]
  },
  {
   "cell_type": "code",
   "execution_count": 11,
   "id": "8f3bfb2a-2b09-4b47-af35-f38ce51ffde0",
   "metadata": {},
   "outputs": [
    {
     "data": {
      "text/plain": [
       "0.05070944878224933"
      ]
     },
     "execution_count": 11,
     "metadata": {},
     "output_type": "execute_result"
    }
   ],
   "source": [
    "sd = np.std(train_loss[None,:])\n",
    "threshold = np.median(train_loss[None,:]) + (3*sd)\n",
    "threshold"
   ]
  },
  {
   "cell_type": "markdown",
   "id": "25410d70-1e28-49f8-8aec-922d91dba304",
   "metadata": {},
   "source": [
    "### Plot reconstruction losses for Training data & Validation data along with threshold"
   ]
  },
  {
   "cell_type": "code",
   "execution_count": 12,
   "id": "21097e09-ddcb-4751-83de-53531270a83e",
   "metadata": {},
   "outputs": [
    {
     "data": {
      "image/png": "[encoded data removed]",
      "text/plain": [
       "<Figure size 1296x432 with 1 Axes>"
      ]
     },
     "metadata": {
      "needs_background": "light"
     },
     "output_type": "display_data"
    }
   ],
   "source": [
    "import matplotlib.pyplot as plt\n",
    "plt.figure(figsize=(18,6))\n",
    "plt.hist(train_loss[None,:], bins=100, density=True, alpha=.5, range=(0,.3))\n",
    "plt.hist(holdout_loss[None,:], bins=100, density=True, alpha=.5,  range=(0,.3))\n",
    "plt.plot([threshold, threshold], [0, 80], c='red', linewidth=3,linestyle='dotted')\n",
    "plt.legend(['Anomaly Threshold', 'Machine-NORMAL', 'Machine-BROKEN/RECOVERING'])\n",
    "plt.xlabel(\"Test loss\")\n",
    "plt.ylabel(\"\")\n",
    "plt.show()"
   ]
  }
 ],
 "metadata": {
  "kernelspec": {
   "display_name": "Python 3.8 - Pytorch and Tensorflow",
   "language": "python",
   "name": "python38-azureml-pt-tf"
  },
  "language_info": {
   "codemirror_mode": {
    "name": "ipython",
    "version": 3
   },
   "file_extension": ".py",
   "mimetype": "text/x-python",
   "name": "python",
   "nbconvert_exporter": "python",
   "pygments_lexer": "ipython3",
   "version": "3.8.5"
  }
 },
 "nbformat": 4,
 "nbformat_minor": 5
}
